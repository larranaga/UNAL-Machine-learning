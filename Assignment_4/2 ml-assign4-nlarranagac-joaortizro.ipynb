{
 "cells": [
  {
   "cell_type": "markdown",
   "metadata": {},
   "source": [
    "# Assignment 4\n",
    "\n",
    "Nicolas Larrañaga Cifuentes - Jonathan Alberto Ortiz Rodriguez"
   ]
  },
  {
   "cell_type": "code",
   "execution_count": 5,
   "metadata": {},
   "outputs": [],
   "source": [
    "import numpy as np\n",
    "import pylab as pl\n",
    "import matplotlib.pyplot as plt\n",
    "\n",
    "%matplotlib inline"
   ]
  },
  {
   "cell_type": "markdown",
   "metadata": {},
   "source": [
    "# 1.a"
   ]
  },
  {
   "cell_type": "code",
   "execution_count": 6,
   "metadata": {},
   "outputs": [],
   "source": [
    "def sigmoid(x):\n",
    "    return 1/(1+ np.exp(-x))\n",
    "\n",
    "def relu(x):\n",
    "    if x>= 0 :\n",
    "        return x\n",
    "    else :\n",
    "        return 0;\n",
    "    \n",
    "def forward_propagate(x, w):\n",
    "    '''\n",
    "    x: input value for neuron 5\n",
    "    w: weights array in the following order\n",
    "       [w13, w12, w14, w32, w42, w53, w54]\n",
    "           0   1   2    3    4    5    6\n",
    "    Returns: a pair of arrays (a, z), where \n",
    "             a has the activation values for each neuron, and\n",
    "             z the output values for each neuron\n",
    "    '''\n",
    "    z = np.zeros(5)\n",
    "    a = np.zeros(5)\n",
    "    \n",
    "    # your code here\n",
    "    \n",
    "    #activation for neuron 5\n",
    "    a[4]= x\n",
    "    z[4]= x\n",
    "    #activation for neuron 4\n",
    "    a[3]= w[6] * z[4]\n",
    "    z[3] = sigmoid(a[3])\n",
    "    #activation for neuron 3 \n",
    "    a[2] = w[5] * z[4]\n",
    "    z[2] = sigmoid(a[2])\n",
    "    #activation for neuron 2 \n",
    "    a[1] = w[3] * z[2] + w[4]*z[3]\n",
    "    z[1] = relu(a[1])\n",
    "    #activation for neuron 1\n",
    "    a[0] = w[0]*z[2] + w[1]*z[1] + w[2]*z[3]\n",
    "    z[0] = sigmoid(a[0])\n",
    "\n",
    "    return (a, z)\n",
    "\n",
    "\n",
    "#(a,z)=forward_propagate(x, w)\n",
    "#print (a)\n",
    "#print (z)"
   ]
  },
  {
   "cell_type": "markdown",
   "metadata": {},
   "source": [
    "# 1.b"
   ]
  },
  {
   "cell_type": "code",
   "execution_count": 7,
   "metadata": {},
   "outputs": [],
   "source": [
    "def error(expected , real):\n",
    "    return (expected - real)**2\n",
    "\n",
    "def derivate_sigmoid(x):\n",
    "    return sigmoid(x) * (1 - sigmoid(x))\n",
    "\n",
    "def derivate_relu(x):\n",
    "    if x>= 0:\n",
    "        return 1;\n",
    "    else :\n",
    "        return 0;\n",
    "\n",
    "    \n",
    "def bp(x, y, w):\n",
    "    '''\n",
    "    x: input value for neuron 5\n",
    "    y: output value for neuron 1\n",
    "    w: weights array in the following order\n",
    "       [w13, w12, w14, w32, w42, w53, w54]\n",
    "         0    1    2    3    4    5    6\n",
    "    Returns: an array delta with the delta values for each\n",
    "             neuron\n",
    "    '''\n",
    "    delta = np.zeros(5)\n",
    "    # neuron 1\n",
    "    delta[0] = 2 * (y-z[0]) * (-z[0]) * (1-z[0])\n",
    "    # neuron 2    \n",
    "    delta[1] = derivate_relu(a[1]) * delta [0] * w[1]\n",
    "    # neuron 3\n",
    "    delta[2] = derivate_sigmoid(a[2]) * (delta[1]*w[3] + delta[0]*w[0])\n",
    "    # neuron 4 \n",
    "    delta[3] = derivate_sigmoid(a[3]) * (delta[1]*w[4] + delta[0]*w[2])\n",
    "    # neuron 5\n",
    "    delta[4] = derivate_sigmoid(a[4])* (delta[2]*w[5] + delta[3]*w[6])\n",
    "    return delta\n",
    "\n",
    "\n",
    "\n",
    "\n",
    "#y=0.731204118803\n",
    "#delta=bp(x,y,w)\n",
    "#print (delta)\n"
   ]
  },
  {
   "cell_type": "markdown",
   "metadata": {},
   "source": [
    "# 1.c"
   ]
  },
  {
   "cell_type": "code",
   "execution_count": 8,
   "metadata": {},
   "outputs": [],
   "source": [
    "def train_step(x, y, w, eta):\n",
    "    '''\n",
    "    x: input value for neuron 5\n",
    "    y: output value for neuron 1\n",
    "    w: weights array in the following order\n",
    "       [w13, w12, w14, w32, w42, w53, w54]\n",
    "         0    1    2    3    4     5   6\n",
    "    eta: learning rate\n",
    "    Returns: updated w array\n",
    "    '''\n",
    "    # Calculate dw\n",
    "    # Your code here\n",
    "    dw = np.zeros(7)\n",
    "    #w53\n",
    "    dw[5] = delta[2] * z[4]\n",
    "    #w54\n",
    "    dw[6] = delta[3] * z[4]\n",
    "    #w32\n",
    "    dw[3] = delta[1] * z[2]\n",
    "    #w42\n",
    "    dw[4] = delta[1] * z[3]\n",
    "    #w31\n",
    "    dw[0] = delta[0] * z[2]\n",
    "    #w21\n",
    "    dw[1] = delta[0] * z[1]\n",
    "    #w41\n",
    "    dw[2] = delta[0] * z[3]\n",
    "    \n",
    "    w = w - eta*dw\n",
    "    return w\n",
    "#eta=0.5\n",
    "#updated_w=train_step(x,y,w,eta)\n",
    "#print(updated_w)"
   ]
  },
  {
   "cell_type": "code",
   "execution_count": 48,
   "metadata": {},
   "outputs": [
    {
     "data": {
      "text/plain": [
       "Text(0.5,1,'prediction')"
      ]
     },
     "execution_count": 48,
     "metadata": {},
     "output_type": "execute_result"
    },
    {
     "data": {
      "image/png": "[encoded data removed]",
      "text/plain": [
       "<Figure size 864x360 with 2 Axes>"
      ]
     },
     "metadata": {},
     "output_type": "display_data"
    }
   ],
   "source": [
    "file = open(\"samples_assign4.txt\", \"r\") \n",
    "x = []\n",
    "y = []\n",
    "for line in file:\n",
    "    if( line == \"\\n\" ): continue\n",
    "    u,v = line.split()\n",
    "    x.append(u)\n",
    "    y.append(v)\n",
    "x = np.array(x, dtype=float)\n",
    "y = np.array(y, dtype=float)\n",
    "\n",
    "# lets train \n",
    "# assuming\n",
    "# random values for the weihgts from -1 to 1 \n",
    "N = len(x)\n",
    "w= np.zeros(7);\n",
    "\n",
    "for i in range(7):\n",
    "    w[i]=np.random.uniform(-2.0,2.0)\n",
    "\n",
    "eta=0.7\n",
    "predictions=[]\n",
    "for i in range(N):\n",
    "    (a,z)=forward_propagate(x[i], w)\n",
    "    predictions.append(z[0])\n",
    "    delta=bp(x,y[i],w)\n",
    "    updated_w= train_step(x, y, w, eta)    \n",
    "    w=updated_w\n",
    "\n",
    "fig = plt.figure( figsize = (12,5) )\n",
    "ax1 = fig.add_subplot(121)\n",
    "ax1.plot( x,y,'b')\n",
    "ax1.set_title(\"real\")\n",
    "\n",
    "ax2 = fig.add_subplot(122)\n",
    "ax2.plot(x,predictions,'r')\n",
    "ax2.set_title(\"prediction\")\n",
    "#ax2.title(\"predictions\")\n"
   ]
  },
  {
   "cell_type": "markdown",
   "metadata": {},
   "source": [
    "### conclusion \n",
    "since weights are initialized randomly sometimes its predictions are very unsuccessful its depens also in the learning rate, if too low it gives almost a linear predictns if too high , nearly 1 it gives a pretty nice prediction"
   ]
  },
  {
   "cell_type": "markdown",
   "metadata": {},
   "source": [
    "# 3.1"
   ]
  },
  {
   "cell_type": "code",
   "execution_count": 55,
   "metadata": {},
   "outputs": [],
   "source": [
    "import numpy as np\n",
    "import urllib\n",
    "from matplotlib import pyplot as plt\n",
    "import random\n",
    "import sys\n",
    "\n",
    "from keras.models import Sequential, load_model, Model\n",
    "from keras.layers import Dense, Activation, Dropout\n",
    "from keras.layers import LSTM\n",
    "from keras.optimizers import RMSprop\n",
    "from keras.utils.data_utils import get_file\n",
    "from keras.layers.wrappers import TimeDistributed\n",
    "from keras.applications import mobilenet\n",
    "from keras.applications.mobilenet import preprocess_input, decode_predictions\n",
    "from PIL import Image, ImageFile\n",
    "from keras.preprocessing.image import img_to_array as preprocess_image\n",
    "from tabulate import tabulate\n",
    "from keras import optimizers\n",
    "from sklearn.utils import shuffle\n",
    "from keras.utils.generic_utils import CustomObjectScope\n",
    "\n",
    "\n",
    "__PATH = 'birds/'\n",
    "birds = ['egret', 'mandarin', 'owl', 'puffin', 'toucan', 'wood_duck']\n",
    "__NUMBER_OF_SAMPLES = 101\n",
    "__EXTENSION = '.jpg'\n",
    "__SIZE = (224, 224)\n",
    "\n",
    "def get_string_digit(n):\n",
    "    if n < 10:\n",
    "        return '00' + str(n)\n",
    "    elif n <100:\n",
    "        return '0' + str(n)\n",
    "    else:\n",
    "        return str(n)\n",
    "def get_prefix(name):\n",
    "    return 'wod' if name == 'wood_duck' else name[:3]"
   ]
  },
  {
   "cell_type": "code",
   "execution_count": 56,
   "metadata": {},
   "outputs": [
    {
     "ename": "ImportError",
     "evalue": "`load_weights` requires h5py.",
     "output_type": "error",
     "traceback": [
      "\u001b[0;31m---------------------------------------------------------------------------\u001b[0m",
      "\u001b[0;31mImportError\u001b[0m                               Traceback (most recent call last)",
      "\u001b[0;32m<ipython-input-56-8be07ec0198c>\u001b[0m in \u001b[0;36m<module>\u001b[0;34m()\u001b[0m\n\u001b[0;32m----> 1\u001b[0;31m \u001b[0mmodel\u001b[0m \u001b[0;34m=\u001b[0m \u001b[0mmobilenet\u001b[0m\u001b[0;34m.\u001b[0m\u001b[0mMobileNet\u001b[0m\u001b[0;34m(\u001b[0m\u001b[0minput_shape\u001b[0m\u001b[0;34m=\u001b[0m\u001b[0;32mNone\u001b[0m\u001b[0;34m,\u001b[0m \u001b[0malpha\u001b[0m\u001b[0;34m=\u001b[0m\u001b[0;36m1.0\u001b[0m\u001b[0;34m,\u001b[0m \u001b[0mdepth_multiplier\u001b[0m\u001b[0;34m=\u001b[0m\u001b[0;36m1\u001b[0m\u001b[0;34m,\u001b[0m \u001b[0mdropout\u001b[0m\u001b[0;34m=\u001b[0m\u001b[0;36m1e-3\u001b[0m\u001b[0;34m,\u001b[0m \u001b[0minclude_top\u001b[0m\u001b[0;34m=\u001b[0m\u001b[0;32mTrue\u001b[0m\u001b[0;34m,\u001b[0m \u001b[0mweights\u001b[0m\u001b[0;34m=\u001b[0m\u001b[0;34m'imagenet'\u001b[0m\u001b[0;34m,\u001b[0m \u001b[0minput_tensor\u001b[0m\u001b[0;34m=\u001b[0m\u001b[0;32mNone\u001b[0m\u001b[0;34m,\u001b[0m \u001b[0mpooling\u001b[0m\u001b[0;34m=\u001b[0m\u001b[0;32mNone\u001b[0m\u001b[0;34m,\u001b[0m \u001b[0mclasses\u001b[0m\u001b[0;34m=\u001b[0m\u001b[0;36m1000\u001b[0m\u001b[0;34m)\u001b[0m\u001b[0;34m\u001b[0m\u001b[0m\n\u001b[0m",
      "\u001b[0;32m~/Documents/11/ML/UNAL-Machine-learning/lib/python3.6/site-packages/keras/applications/mobilenet.py\u001b[0m in \u001b[0;36mMobileNet\u001b[0;34m(input_shape, alpha, depth_multiplier, dropout, include_top, weights, input_tensor, pooling, classes)\u001b[0m\n\u001b[1;32m    331\u001b[0m                                     \u001b[0mweigh_path\u001b[0m\u001b[0;34m,\u001b[0m\u001b[0;34m\u001b[0m\u001b[0m\n\u001b[1;32m    332\u001b[0m                                     cache_subdir='models')\n\u001b[0;32m--> 333\u001b[0;31m         \u001b[0mmodel\u001b[0m\u001b[0;34m.\u001b[0m\u001b[0mload_weights\u001b[0m\u001b[0;34m(\u001b[0m\u001b[0mweights_path\u001b[0m\u001b[0;34m)\u001b[0m\u001b[0;34m\u001b[0m\u001b[0m\n\u001b[0m\u001b[1;32m    334\u001b[0m     \u001b[0;32melif\u001b[0m \u001b[0mweights\u001b[0m \u001b[0;32mis\u001b[0m \u001b[0;32mnot\u001b[0m \u001b[0;32mNone\u001b[0m\u001b[0;34m:\u001b[0m\u001b[0;34m\u001b[0m\u001b[0m\n\u001b[1;32m    335\u001b[0m         \u001b[0mmodel\u001b[0m\u001b[0;34m.\u001b[0m\u001b[0mload_weights\u001b[0m\u001b[0;34m(\u001b[0m\u001b[0mweights\u001b[0m\u001b[0;34m)\u001b[0m\u001b[0;34m\u001b[0m\u001b[0m\n",
      "\u001b[0;32m~/Documents/11/ML/UNAL-Machine-learning/lib/python3.6/site-packages/keras/engine/topology.py\u001b[0m in \u001b[0;36mload_weights\u001b[0;34m(self, filepath, by_name, skip_mismatch, reshape)\u001b[0m\n\u001b[1;32m   2655\u001b[0m         \"\"\"\n\u001b[1;32m   2656\u001b[0m         \u001b[0;32mif\u001b[0m \u001b[0mh5py\u001b[0m \u001b[0;32mis\u001b[0m \u001b[0;32mNone\u001b[0m\u001b[0;34m:\u001b[0m\u001b[0;34m\u001b[0m\u001b[0m\n\u001b[0;32m-> 2657\u001b[0;31m             \u001b[0;32mraise\u001b[0m \u001b[0mImportError\u001b[0m\u001b[0;34m(\u001b[0m\u001b[0;34m'`load_weights` requires h5py.'\u001b[0m\u001b[0;34m)\u001b[0m\u001b[0;34m\u001b[0m\u001b[0m\n\u001b[0m\u001b[1;32m   2658\u001b[0m         \u001b[0;32mwith\u001b[0m \u001b[0mh5py\u001b[0m\u001b[0;34m.\u001b[0m\u001b[0mFile\u001b[0m\u001b[0;34m(\u001b[0m\u001b[0mfilepath\u001b[0m\u001b[0;34m,\u001b[0m \u001b[0mmode\u001b[0m\u001b[0;34m=\u001b[0m\u001b[0;34m'r'\u001b[0m\u001b[0;34m)\u001b[0m \u001b[0;32mas\u001b[0m \u001b[0mf\u001b[0m\u001b[0;34m:\u001b[0m\u001b[0;34m\u001b[0m\u001b[0m\n\u001b[1;32m   2659\u001b[0m             \u001b[0;32mif\u001b[0m \u001b[0;34m'layer_names'\u001b[0m \u001b[0;32mnot\u001b[0m \u001b[0;32min\u001b[0m \u001b[0mf\u001b[0m\u001b[0;34m.\u001b[0m\u001b[0mattrs\u001b[0m \u001b[0;32mand\u001b[0m \u001b[0;34m'model_weights'\u001b[0m \u001b[0;32min\u001b[0m \u001b[0mf\u001b[0m\u001b[0;34m:\u001b[0m\u001b[0;34m\u001b[0m\u001b[0m\n",
      "\u001b[0;31mImportError\u001b[0m: `load_weights` requires h5py."
     ]
    }
   ],
   "source": [
    "model = mobilenet.MobileNet(input_shape=None, alpha=1.0, depth_multiplier=1, dropout=1e-3, include_top=True, weights='imagenet', input_tensor=None, pooling=None, classes=1000)"
   ]
  },
  {
   "cell_type": "code",
   "execution_count": null,
   "metadata": {},
   "outputs": [],
   "source": []
  }
 ],
 "metadata": {
  "kernelspec": {
   "display_name": "Python 3",
   "language": "python",
   "name": "python3"
  },
  "language_info": {
   "codemirror_mode": {
    "name": "ipython",
    "version": 3
   },
   "file_extension": ".py",
   "mimetype": "text/x-python",
   "name": "python",
   "nbconvert_exporter": "python",
   "pygments_lexer": "ipython3",
   "version": "3.6.3"
  }
 },
 "nbformat": 4,
 "nbformat_minor": 2
}
