{
 "cells": [
  {
   "cell_type": "markdown",
   "metadata": {},
   "source": [
    "# Assignment 3\n",
    "\n",
    "by Nicolás Larrañaga C and Jonathan Alberto Ortiz Rodriguez"
   ]
  },
  {
   "cell_type": "code",
   "execution_count": 3,
   "metadata": {},
   "outputs": [],
   "source": [
    "import numpy as np\n",
    "import math"
   ]
  },
  {
   "cell_type": "markdown",
   "metadata": {},
   "source": [
    "## 1. a\n"
   ]
  },
  {
   "cell_type": "markdown",
   "metadata": {},
   "source": [
    "We start by defining an expression that allows us to compute the average distance to the center of mass in the feature space from a set of input data. "
   ]
  },
  {
   "cell_type": "markdown",
   "metadata": {},
   "source": [
    "let's redefine the distance as following\n",
    "\n",
    "$ || \\phi(x) - \\phi(y) || = \\sqrt{ (x1 - x2)^2 + (y1 - y2)^2 } = \\sqrt{ -2<x,y> + <x,x> + <y,y>} $\n",
    "\n",
    "now we can use this distance formula to calculate the average distance to the center of mass as following\n",
    "\n",
    "$ \\frac{1}{n} \\sum_{i = 1}^n || \\phi(x_i) - \\frac{1}{n} \\sum_{j = 1} ^ n \\phi(x_j) ||  = $\n",
    "\n",
    "$ \\frac{1}{n} \\sum_{i = 1}^ n \\sqrt{ <\\phi(x_i), \\phi(x_i)> + \\frac{1}{n^2} < \\sum_{j = 1}^n \\phi(x_j) , \\sum_{k =1}^n\\phi(x_k) ] - \\frac{2}{n} \\phi(x_i)\\sum_{j = 1}^n \\phi(x_j)  }  = $\n",
    "\n",
    "$ \\frac{1}{n} \\sum_{i = 1}^n \\sqrt{ k(x_i, x_i)  + \\frac{1}{n^2} \\sum_{j = 1}^n \\sum_{k = 1}^n k(x_j,x_k)  - \\frac{2}{n} \\sum_{j = 1}^n k(x_i,x_j) } $\n",
    "\n",
    "this expression can be implemented as follows"
   ]
  },
  {
   "cell_type": "code",
   "execution_count": 16,
   "metadata": {},
   "outputs": [],
   "source": [
    "def average_distance(x, kernel_mat):\n",
    "    ans = 0.0\n",
    "    n = x.shape[0]\n",
    "    for i in range(n):\n",
    "        tmp1 = kernel_mat[i][i]\n",
    "        tmp2 = 0.0\n",
    "        for j in range(n):\n",
    "            for k in range(n):\n",
    "                tmp2 += kernel_mat[j][k]\n",
    "        tmp2 /= (n**2)\n",
    "        tmp3 = 0.0\n",
    "        for j in range(n):\n",
    "            tmp3 += kernel_mat[i][j]\n",
    "        tmp3 *= 2.0\n",
    "        tmp3 /= n\n",
    "        ans += math.sqrt(tmp1 + tmp2 - tmp3)\n",
    "    return ans/n\n",
    "        "
   ]
  },
  {
   "cell_type": "markdown",
   "metadata": {},
   "source": [
    "## 1.b"
   ]
  },
  {
   "cell_type": "code",
   "execution_count": 22,
   "metadata": {},
   "outputs": [],
   "source": [
    "x = np.array([(0, 1), (-1, 3), (2, 4), (3, -1), (-1, -2)])\n",
    "n = x.shape[0]\n",
    "k_1 = [[x[i].dot(x[j]) for i in range(n)] for j in range(n)] # <x,y>\n",
    "k_2 = [[x[i].dot(x[j])**2 for i in range(n)] for j in range(n)] #<x,y>^2\n",
    "k_3 = [[(x[i].dot(x[j]) + 1)**5 for i in range(n)] for j in range(n)] #(<x,y> + 1)^5\n",
    "k_4 = [[math.exp(- np.linalg.norm(x[i] - x[j]) ** 2 / 2.0) for i in range(n)] for j in range(n)] #gaussian kernel with sigma = 1"
   ]
  },
  {
   "cell_type": "markdown",
   "metadata": {},
   "source": [
    "### i"
   ]
  },
  {
   "cell_type": "code",
   "execution_count": 21,
   "metadata": {},
   "outputs": [
    {
     "data": {
      "text/plain": [
       "699.7672616263939"
      ]
     },
     "execution_count": 21,
     "metadata": {},
     "output_type": "execute_result"
    }
   ],
   "source": [
    "average_distance( x, k_1 )"
   ]
  },
  {
   "cell_type": "markdown",
   "metadata": {},
   "source": [
    "### ii"
   ]
  },
  {
   "cell_type": "code",
   "execution_count": 23,
   "metadata": {},
   "outputs": [
    {
     "data": {
      "text/plain": [
       "7.93374823939363"
      ]
     },
     "execution_count": 23,
     "metadata": {},
     "output_type": "execute_result"
    }
   ],
   "source": [
    "average_distance(x, k_2)"
   ]
  },
  {
   "cell_type": "markdown",
   "metadata": {},
   "source": [
    "### iii"
   ]
  },
  {
   "cell_type": "code",
   "execution_count": 24,
   "metadata": {},
   "outputs": [
    {
     "data": {
      "text/plain": [
       "699.7672616263939"
      ]
     },
     "execution_count": 24,
     "metadata": {},
     "output_type": "execute_result"
    }
   ],
   "source": [
    "average_distance(x, k_3)"
   ]
  },
  {
   "cell_type": "markdown",
   "metadata": {},
   "source": [
    "### iV"
   ]
  },
  {
   "cell_type": "code",
   "execution_count": 25,
   "metadata": {},
   "outputs": [
    {
     "data": {
      "text/plain": [
       "0.8899495533798308"
      ]
     },
     "execution_count": 25,
     "metadata": {},
     "output_type": "execute_result"
    }
   ],
   "source": [
    "average_distance(x, k_4)"
   ]
  },
  {
   "cell_type": "code",
   "execution_count": null,
   "metadata": {},
   "outputs": [],
   "source": []
  }
 ],
 "metadata": {
  "kernelspec": {
   "display_name": "Python 3",
   "language": "python",
   "name": "python3"
  },
  "language_info": {
   "codemirror_mode": {
    "name": "ipython",
    "version": 3
   },
   "file_extension": ".py",
   "mimetype": "text/x-python",
   "name": "python",
   "nbconvert_exporter": "python",
   "pygments_lexer": "ipython3",
   "version": "3.6.4"
  }
 },
 "nbformat": 4,
 "nbformat_minor": 2
}
