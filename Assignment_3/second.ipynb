{
 "cells": [
  {
   "cell_type": "markdown",
   "metadata": {},
   "source": [
    "# 2 .a"
   ]
  },
  {
   "cell_type": "code",
   "execution_count": 2,
   "metadata": {},
   "outputs": [
    {
     "name": "stdout",
     "output_type": "stream",
     "text": [
      "{'DESCR': 'mldata.org dataset: mnist-original', 'COL_NAMES': ['label', 'data'], 'target': array([0., 0., 0., ..., 9., 9., 9.]), 'data': array([[0, 0, 0, ..., 0, 0, 0],\n",
      "       [0, 0, 0, ..., 0, 0, 0],\n",
      "       [0, 0, 0, ..., 0, 0, 0],\n",
      "       ...,\n",
      "       [0, 0, 0, ..., 0, 0, 0],\n",
      "       [0, 0, 0, ..., 0, 0, 0],\n",
      "       [0, 0, 0, ..., 0, 0, 0]], dtype=uint8)}\n"
     ]
    }
   ],
   "source": [
    "from sklearn.datasets import fetch_mldata\n",
    "from sklearn import preprocessing, svm\n",
    "import matplotlib.pyplot as plt\n",
    "import numpy as np\n",
    "\n",
    "mnist = fetch_mldata('MNIST original')\n",
    "print(mnist)"
   ]
  },
  {
   "cell_type": "code",
   "execution_count": 3,
   "metadata": {},
   "outputs": [
    {
     "name": "stdout",
     "output_type": "stream",
     "text": [
      "[[0. 0. 0. ... 0. 0. 0.]\n",
      " [0. 0. 0. ... 0. 0. 0.]\n",
      " [0. 0. 0. ... 0. 0. 0.]\n",
      " ...\n",
      " [0. 0. 0. ... 0. 0. 0.]\n",
      " [0. 0. 0. ... 0. 0. 0.]\n",
      " [0. 0. 0. ... 0. 0. 0.]]\n"
     ]
    }
   ],
   "source": [
    "data = np.array(mnist.data).astype(float)\n",
    "scaled_data = preprocessing.scale(data,copy=False)\n",
    "print(scaled_data)"
   ]
  },
  {
   "cell_type": "code",
   "execution_count": 4,
   "metadata": {},
   "outputs": [
    {
     "name": "stdout",
     "output_type": "stream",
     "text": [
      "-7.739646306420399e-18\n",
      "0.9576491198422709\n"
     ]
    }
   ],
   "source": [
    "print(scaled_data.mean())\n",
    "print(scaled_data.std())"
   ]
  },
  {
   "cell_type": "markdown",
   "metadata": {},
   "source": [
    "### In the next cell we just take the very first row from the MNIST data set:\n",
    "    -we calculated the scale for this row\n",
    "    -in addtion we ploted what it looks like, just for getting familiar with the image\n",
    "    -mean is really close to Zero , but not exactly Zero"
   ]
  },
  {
   "cell_type": "code",
   "execution_count": 25,
   "metadata": {},
   "outputs": [
    {
     "name": "stdout",
     "output_type": "stream",
     "text": [
      "standard deviation :  1.0\n",
      "mean :  9.063045098980869e-18\n"
     ]
    },
    {
     "data": {
      "image/png": "[encoded data removed]",
      "text/plain": [
       "<matplotlib.figure.Figure at 0x1700015fa90>"
      ]
     },
     "metadata": {},
     "output_type": "display_data"
    }
   ],
   "source": [
    "#just for plotting purposes and getting familiar with the image\n",
    "number = np.array(data[0:1, 0:784]).astype(np.float64)\n",
    "\n",
    "scaledData = preprocessing.scale(number[0])\n",
    "\n",
    "print(\"standard deviation : \" ,scaledData.std(axis=0))\n",
    "print(\"mean : \" ,scaledData.mean(axis=0))\n",
    "\n",
    "def print_number(arr):\n",
    "    pixels = arr.reshape((28, 28))\n",
    "    plt.imshow(pixels, cmap=\"gray\")\n",
    "    plt.show()\n",
    "print_number(number)"
   ]
  },
  {
   "cell_type": "markdown",
   "metadata": {},
   "source": [
    "# 2.c"
   ]
  },
  {
   "cell_type": "code",
   "execution_count": 9,
   "metadata": {},
   "outputs": [
    {
     "data": {
      "image/png": "[encoded data removed]",
      "text/plain": [
       "<matplotlib.figure.Figure at 0x1a311ef7b8>"
      ]
     },
     "metadata": {},
     "output_type": "display_data"
    }
   ],
   "source": [
    "labels = np.array(mnist.target)\n",
    "tuples = list(zip(labels.astype(int), scaled_data))\n",
    "\n",
    "d = {}\n",
    "for key, val in tuples:\n",
    "    d.setdefault(key, []).append(val)\n",
    "\n",
    "\n",
    "def train_svm(number_1, number_2, training_data_percentage=0.8):\n",
    "    p_train = training_data_percentage\n",
    "    p_test = 1.0 - p_train\n",
    "\n",
    "    # getting samples for each class for training and testing\n",
    "    ones_train_samples = int(len(d[number_1]) * p_train)\n",
    "    sevens_train_samples = int(len(d[number_2]) * p_train)\n",
    "\n",
    "    ones_test_samples = len(d[number_1]) - ones_train_samples\n",
    "    sevens_test_samples = len(d[number_2]) - sevens_train_samples\n",
    "    \n",
    "    # getting all images of class 1 ,7 for training \n",
    "    ones_train = d[number_1][:ones_train_samples]\n",
    "    sevens_train = d[number_2][:sevens_train_samples]\n",
    "    # getting all images of class 1,7 for  testing\n",
    "    ones_test = d[number_1][ones_train_samples + 1 :]\n",
    "    sevens_test = d[number_2][sevens_test_samples + 1:]\n",
    "\n",
    "    #training_data = preprocessing.scale(ones_train + sevens_train)\n",
    "    #test_data = preprocessing.scale(ones_test + sevens_test)\n",
    "    training_data = ones_train + sevens_train\n",
    "    test_data = ones_test + sevens_test\n",
    "    training_target = [number_1] * len(ones_train) + [number_2] * len(sevens_train)\n",
    "    test_target = [number_1] * len(ones_test) + [number_2] * len(sevens_test)\n",
    "    C = np.logspace(-50, 50, 100)\n",
    "    train_error = []\n",
    "    test_error = []\n",
    "    for c in C:\n",
    "        clf = svm.LinearSVC(C=c)\n",
    "        clf.fit(training_data, training_target)\n",
    "        train_error.append(clf.score(training_data, training_target))\n",
    "        test_error.append(clf.score(test_data, test_target))\n",
    "    \n",
    "    plt.subplot(2, 1, 1)\n",
    "    plt.semilogx(C, train_error, label='Train')\n",
    "    plt.semilogx(C, test_error, label='Test')\n",
    "    plt.legend(loc='lower left')\n",
    "    plt.ylim([0, 1.2])\n",
    "    plt.xlabel('Regularization parameter')\n",
    "    plt.ylabel('Performance')\n",
    "    plt.show()\n",
    "            \n",
    "train_svm(0, 3,0.3)"
   ]
  },
  {
   "cell_type": "code",
   "execution_count": null,
   "metadata": {},
   "outputs": [],
   "source": []
  },
  {
   "cell_type": "code",
   "execution_count": null,
   "metadata": {},
   "outputs": [],
   "source": []
  }
 ],
 "metadata": {
  "kernelspec": {
   "display_name": "Python 3",
   "language": "python",
   "name": "python3"
  },
  "language_info": {
   "codemirror_mode": {
    "name": "ipython",
    "version": 3
   },
   "file_extension": ".py",
   "mimetype": "text/x-python",
   "name": "python",
   "nbconvert_exporter": "python",
   "pygments_lexer": "ipython3",
   "version": "3.6.4"
  }
 },
 "nbformat": 4,
 "nbformat_minor": 2
}
