{
 "cells": [
  {
   "cell_type": "code",
   "execution_count": 1,
   "metadata": {},
   "outputs": [],
   "source": [
    "import numpy as np\n",
    "import pylab as pl\n",
    "\n",
    "%matplotlib inline"
   ]
  },
  {
   "cell_type": "code",
   "execution_count": 18,
   "metadata": {},
   "outputs": [
    {
     "data": {
      "text/plain": [
       "(array([ 4.13794907,  0.        ,  4.2       , -2.1       ,  0.        ]),\n",
       " array([4.07296274, 0.        , 4.13794907, 0.        , 0.        ]))"
      ]
     },
     "execution_count": 18,
     "metadata": {},
     "output_type": "execute_result"
    }
   ],
   "source": [
    "def sigmoid(x):\n",
    "    return 1/(1+ np.exp(-x))\n",
    "\n",
    "def relu(x):\n",
    "    if x>= 0 :\n",
    "        return x\n",
    "    else :\n",
    "        return 0;\n",
    "    \n",
    "def forward_propagate(x, w):\n",
    "    '''\n",
    "    x: input value for neuron 5\n",
    "    w: weights array in the following order\n",
    "       [w13, w12, w14, w32, w42, w53, w54]\n",
    "    Returns: a pair of arrays (a, z), where \n",
    "             a has the activation values for each neuron, and\n",
    "             z the output values for each neuron\n",
    "    '''\n",
    "    z = np.zeros(5)\n",
    "    a = np.zeros(5)\n",
    "    # your code here\n",
    "    a[3] = w[6]*(x[0]+x[1])\n",
    "    a[2] = w[5]*(x[0]+x[1])\n",
    "    \n",
    "    z[3] = sigmoid(a[3])*relu(a[3])\n",
    "    z[2] = sigmoid(a[2])*relu(a[2])\n",
    "    \n",
    "    a[1] = w[3]*z[3] + w[4]*z[4]\n",
    "    z[1] = relu(a[1])\n",
    "    \n",
    "    a[0]= w[2]*z[3] + w[1]*z[1] + w[0]*z[2]\n",
    "    z[0]= sigmoid(a[0]) * relu(a[0])    \n",
    "    return (a, z)\n",
    "\n",
    "\n",
    "# this is just an example\n",
    "x=np.array([2,5])\n",
    "w=np.array([1,-1,0.5,-0.5,0.4,0.6,-0.3])\n",
    "forward_propagate(x, w)"
   ]
  },
  {
   "cell_type": "code",
   "execution_count": null,
   "metadata": {},
   "outputs": [],
   "source": []
  }
 ],
 "metadata": {
  "kernelspec": {
   "display_name": "Python 3",
   "language": "python",
   "name": "python3"
  },
  "language_info": {
   "codemirror_mode": {
    "name": "ipython",
    "version": 3
   },
   "file_extension": ".py",
   "mimetype": "text/x-python",
   "name": "python",
   "nbconvert_exporter": "python",
   "pygments_lexer": "ipython3",
   "version": "3.6.4"
  }
 },
 "nbformat": 4,
 "nbformat_minor": 2
}
