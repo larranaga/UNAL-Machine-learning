{
 "cells": [
  {
   "cell_type": "markdown",
   "metadata": {},
   "source": [
    "# Conventions\n",
    "- $\\bigodot$ division cell-to-cell\n",
    "- $\t\\bigoplus$ sum cell-to-cell\n",
    "- $\\bigotimes$ multiply cell-to-cell\n",
    "- $ONES_{m,n}$ MxN Matrix of ones\n",
    "\n"
   ]
  },
  {
   "cell_type": "code",
   "execution_count": 1,
   "metadata": {
    "scrolled": true
   },
   "outputs": [],
   "source": [
    "import numpy as np\n",
    "n = 5 # size of documents\n",
    "m = 6 # size of terms\n",
    "\n",
    "TD = np.matrix([[2,3,0,3,7],\n",
    "                [0,5,5,0,3],\n",
    "                [5,0,7,3,3],\n",
    "                [3,1,0,9,9],\n",
    "                [0,0,7,1,3],\n",
    "                [6,9,4,6,0]])\n",
    "                \n",
    "L = np.matrix([5,2,3,6,4,3]).T"
   ]
  },
  {
   "cell_type": "markdown",
   "metadata": {},
   "source": [
    "\n",
    "$P = \\frac{1}{n} * (TD \\bigodot (ONES_{m,m} * TD)) $\n"
   ]
  },
  {
   "cell_type": "code",
   "execution_count": 36,
   "metadata": {},
   "outputs": [
    {
     "data": {
      "text/plain": [
       "(matrix([[0.025     , 0.03333333, 0.        , 0.02727273, 0.056     ],\n",
       "         [0.        , 0.05555556, 0.04347826, 0.        , 0.024     ],\n",
       "         [0.0625    , 0.        , 0.06086957, 0.02727273, 0.024     ],\n",
       "         [0.0375    , 0.01111111, 0.        , 0.08181818, 0.072     ],\n",
       "         [0.        , 0.        , 0.06086957, 0.00909091, 0.024     ],\n",
       "         [0.075     , 0.1       , 0.03478261, 0.05454545, 0.        ]]), 1.0)"
      ]
     },
     "execution_count": 36,
     "metadata": {},
     "output_type": "execute_result"
    }
   ],
   "source": [
    "P = 1 / n * np.divide(TD, np.ones((m, m)) * TD)\n",
    "P, P.sum()"
   ]
  },
  {
   "cell_type": "markdown",
   "metadata": {},
   "source": [
    "$P(T|D) =  P \\bigodot (\\frac{1}{n} * ONES_{m, n})  $"
   ]
  },
  {
   "cell_type": "code",
   "execution_count": 15,
   "metadata": {},
   "outputs": [
    {
     "data": {
      "text/plain": [
       "(matrix([[0.125     , 0.16666667, 0.        , 0.13636364, 0.28      ],\n",
       "         [0.        , 0.27777778, 0.2173913 , 0.        , 0.12      ],\n",
       "         [0.3125    , 0.        , 0.30434783, 0.13636364, 0.12      ],\n",
       "         [0.1875    , 0.05555556, 0.        , 0.40909091, 0.36      ],\n",
       "         [0.        , 0.        , 0.30434783, 0.04545455, 0.12      ],\n",
       "         [0.375     , 0.5       , 0.17391304, 0.27272727, 0.        ]]), 5.0)"
      ]
     },
     "execution_count": 15,
     "metadata": {},
     "output_type": "execute_result"
    }
   ],
   "source": [
    "PD = np.ones((m, n)) / n\n",
    "T_GIVEN_D = np.divide(P, PD)\n",
    "T_GIVEN_D, T_GIVEN_D.sum()"
   ]
  },
  {
   "cell_type": "markdown",
   "metadata": {},
   "source": [
    "$P(D|T) =  P \\bigodot (P * ONES_{n,n}) $"
   ]
  },
  {
   "cell_type": "code",
   "execution_count": 34,
   "metadata": {},
   "outputs": [
    {
     "data": {
      "text/plain": [
       "(matrix([[0.17654612, 0.23539482, 0.        , 0.19259576, 0.3954633 ],\n",
       "         [0.        , 0.45154704, 0.35338464, 0.        , 0.19506832],\n",
       "         [0.35787437, 0.        , 0.34853851, 0.15616336, 0.13742376],\n",
       "         [0.18524987, 0.05488885, 0.        , 0.40418153, 0.35567975],\n",
       "         [0.        , 0.        , 0.64782097, 0.09675248, 0.25542655],\n",
       "         [0.28373832, 0.37831776, 0.13158879, 0.20635514, 0.        ]]), 6.0)"
      ]
     },
     "execution_count": 34,
     "metadata": {},
     "output_type": "execute_result"
    }
   ],
   "source": [
    "PT = P * np.ones((n, n))\n",
    "D_GIVEN_T = np.divide(P, PT)\n",
    "D_GIVEN_T, D_GIVEN_T.sum()"
   ]
  },
  {
   "cell_type": "markdown",
   "metadata": {},
   "source": [
    "$P(D)= \\frac{1}{n} * ONES_{1,n}$"
   ]
  },
  {
   "cell_type": "code",
   "execution_count": 42,
   "metadata": {},
   "outputs": [
    {
     "data": {
      "text/plain": [
       "(array([[0.2, 0.2, 0.2, 0.2, 0.2]]), 1.0)"
      ]
     },
     "execution_count": 42,
     "metadata": {},
     "output_type": "execute_result"
    }
   ],
   "source": [
    "PD = 1/n *np.ones((1, n))\n",
    "PD, PD.sum()"
   ]
  },
  {
   "cell_type": "markdown",
   "metadata": {},
   "source": [
    "$P(T)= P * ONES_{n,1}$"
   ]
  },
  {
   "cell_type": "code",
   "execution_count": 43,
   "metadata": {},
   "outputs": [
    {
     "data": {
      "text/plain": [
       "(matrix([[0.14160606],\n",
       "         [0.12303382],\n",
       "         [0.17464229],\n",
       "         [0.20242929],\n",
       "         [0.09396047],\n",
       "         [0.26432806]]), 1.0)"
      ]
     },
     "execution_count": 43,
     "metadata": {},
     "output_type": "execute_result"
    }
   ],
   "source": [
    "PT = P * np.ones((n, 1))\n",
    "PT, PT.sum()"
   ]
  },
  {
   "cell_type": "markdown",
   "metadata": {},
   "source": [
    "$E(l) = \\sum{}^{}{P \\bigotimes (L * ONES_{1,n})}$ "
   ]
  },
  {
   "cell_type": "code",
   "execution_count": 84,
   "metadata": {},
   "outputs": [
    {
     "data": {
      "text/plain": [
       "3.8614266578831797"
      ]
     },
     "execution_count": 84,
     "metadata": {},
     "output_type": "execute_result"
    }
   ],
   "source": [
    "EXP_L = np.multiply(P, L * np.ones((1, n))).sum()\n",
    "EXP_L"
   ]
  },
  {
   "cell_type": "markdown",
   "metadata": {},
   "source": [
    "$A = (L * ONES_{1,n} - EXP_L)$   \n",
    "$Var(l) = \\sum{}^{}{(A\\bigotimes A) \\bigotimes P} $ "
   ]
  },
  {
   "cell_type": "code",
   "execution_count": 85,
   "metadata": {},
   "outputs": [
    {
     "data": {
      "text/plain": [
       "1.8632262826095156"
      ]
     },
     "execution_count": 85,
     "metadata": {},
     "output_type": "execute_result"
    }
   ],
   "source": [
    "LSQR = L * np.ones((1, n)) - EXP_L\n",
    "LSQR = np.multiply(LSQR, LSQR)\n",
    "VAR_L = np.multiply(P, LSQR).sum() \n",
    "VAR_L"
   ]
  }
 ],
 "metadata": {
  "kernelspec": {
   "display_name": "Python 3",
   "language": "python",
   "name": "python3"
  },
  "language_info": {
   "codemirror_mode": {
    "name": "ipython",
    "version": 3
   },
   "file_extension": ".py",
   "mimetype": "text/x-python",
   "name": "python",
   "nbconvert_exporter": "python",
   "pygments_lexer": "ipython3",
   "version": "3.6.4"
  }
 },
 "nbformat": 4,
 "nbformat_minor": 2
}
