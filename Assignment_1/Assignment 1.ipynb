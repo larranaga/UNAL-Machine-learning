{
 "cells": [
  {
   "cell_type": "markdown",
   "metadata": {},
   "source": [
    "# Assignment 1\n",
    "by Nicolas Larranaga Cifuentes - nlarranagac - 2879695\n",
    "\n",
    "Let $D = \\{d1, ..., dn\\}$ a vector of documents, $T = \\{t1, ..., tm\\}$ a vector of terms, $TD = (TD_{i j})_{i=1...m,j=1...n}$ the matrix of frequencies of the terms T in the documents D and finally $L = (l_1, ..., l_m)$ a vector describing the length of the terms T. Finally, there is a process where a document $d_j$ is randomly chosen with uniform probability and then a term $t_i$, present in $d_j$, is randomly chosen with a probability proportional to the frequency of $t_i$ in $d_j$ .\n",
    "\n",
    "Lets asume that the following values are provided."
   ]
  },
  {
   "cell_type": "code",
   "execution_count": 5,
   "metadata": {},
   "outputs": [],
   "source": [
    "import numpy as np\n",
    "\n",
    "n, m = 5, 6 #sizes\n",
    "\n",
    "TD = np.matrix([[2,3,0,3,7],\n",
    "                [0,5,5,0,3],\n",
    "                [5,0,7,3,3],\n",
    "                [3,1,0,9,9],\n",
    "                [0,0,7,1,3],\n",
    "                [6,9,4,6,0]])\n",
    "\n",
    "#L is a vector so we use the transpose of the matrix\n",
    "L = np.matrix([5,2,3,6,4,3]).T "
   ]
  },
  {
   "cell_type": "markdown",
   "metadata": {},
   "source": [
    "a) Calculate Matrix $P(T, D)$"
   ]
  },
  {
   "cell_type": "markdown",
   "metadata": {},
   "source": [
    "Start from the fact that $P(T,D) = P(T \\cap D)$ which is equals to $P(T,D) = P(D)*P(T|D)$, Bayes' theorem could be used to calculate the value for $P(T|D)$, but lets take advantage of the matrix TD, since  the frequency of each term per document is known, I can simply obtain the sum of these frequencies to calculate the probability. This can be summarized in the following expression."
   ]
  },
  {
   "cell_type": "markdown",
   "metadata": {},
   "source": [
    "$P(T,D) = \\frac{1}{n}* \\left( TD / \\left(J_m * TD\\right) \\right)$"
   ]
  },
  {
   "cell_type": "markdown",
   "metadata": {},
   "source": [
    "where / refers to one to one matrix division and $J_m$ denotes a matrix of size $m \\times m$ filled with 1's in all of its entries."
   ]
  },
  {
   "cell_type": "code",
   "execution_count": 7,
   "metadata": {},
   "outputs": [
    {
     "name": "stdout",
     "output_type": "stream",
     "text": [
      "[[0.025      0.03333333 0.         0.02727273 0.056     ]\n",
      " [0.         0.05555556 0.04347826 0.         0.024     ]\n",
      " [0.0625     0.         0.06086957 0.02727273 0.024     ]\n",
      " [0.0375     0.01111111 0.         0.08181818 0.072     ]\n",
      " [0.         0.         0.06086957 0.00909091 0.024     ]\n",
      " [0.075      0.1        0.03478261 0.05454545 0.        ]]\n"
     ]
    }
   ],
   "source": [
    "P_T_D = 1/n*np.divide(TD,np.ones((m,m))*TD)\n",
    "\n",
    "print(P_T_D)"
   ]
  },
  {
   "cell_type": "markdown",
   "metadata": {},
   "source": [
    "the sum of all of it's entries sum up to 1.0"
   ]
  },
  {
   "cell_type": "code",
   "execution_count": 8,
   "metadata": {},
   "outputs": [
    {
     "name": "stdout",
     "output_type": "stream",
     "text": [
      "1.0\n"
     ]
    }
   ],
   "source": [
    "print(P_T_D.sum())"
   ]
  },
  {
   "cell_type": "markdown",
   "metadata": {},
   "source": [
    "b) Calculate Matrix $P(T|D)$"
   ]
  },
  {
   "cell_type": "markdown",
   "metadata": {},
   "source": [
    "As explained in the previous problem,  $P(T|D)$ can be calculated using matrix TD as follows:"
   ]
  },
  {
   "cell_type": "markdown",
   "metadata": {},
   "source": [
    "$P(T|D) = TD / (J_m * TD)$"
   ]
  },
  {
   "cell_type": "code",
   "execution_count": 10,
   "metadata": {},
   "outputs": [
    {
     "name": "stdout",
     "output_type": "stream",
     "text": [
      "[[0.125      0.16666667 0.         0.13636364 0.28      ]\n",
      " [0.         0.27777778 0.2173913  0.         0.12      ]\n",
      " [0.3125     0.         0.30434783 0.13636364 0.12      ]\n",
      " [0.1875     0.05555556 0.         0.40909091 0.36      ]\n",
      " [0.         0.         0.30434783 0.04545455 0.12      ]\n",
      " [0.375      0.5        0.17391304 0.27272727 0.        ]]\n"
     ]
    }
   ],
   "source": [
    "P_TD = np.divide(TD, np.ones((m,m))*TD)\n",
    "\n",
    "print (P_TD)"
   ]
  },
  {
   "cell_type": "markdown",
   "metadata": {},
   "source": [
    "c) Calculate $P(D|T)$"
   ]
  },
  {
   "cell_type": "markdown",
   "metadata": {},
   "source": [
    "Using Bayes' Theorem and the results obtained before I can calculate the value for $P(D|T)$ in the following way"
   ]
  },
  {
   "cell_type": "markdown",
   "metadata": {},
   "source": [
    "$P(D|T) = P(T,D)/(P(T,D)*J_n) $"
   ]
  },
  {
   "cell_type": "code",
   "execution_count": 13,
   "metadata": {},
   "outputs": [
    {
     "name": "stdout",
     "output_type": "stream",
     "text": [
      "[[0.17654612 0.23539482 0.         0.19259576 0.3954633 ]\n",
      " [0.         0.45154704 0.35338464 0.         0.19506832]\n",
      " [0.35787437 0.         0.34853851 0.15616336 0.13742376]\n",
      " [0.18524987 0.05488885 0.         0.40418153 0.35567975]\n",
      " [0.         0.         0.64782097 0.09675248 0.25542655]\n",
      " [0.28373832 0.37831776 0.13158879 0.20635514 0.        ]]\n"
     ]
    }
   ],
   "source": [
    "P_DT = np.divide(P_T_D, (P_T_D* np.ones((n,n))))\n",
    "\n",
    "print(P_DT)"
   ]
  },
  {
   "cell_type": "markdown",
   "metadata": {},
   "source": [
    "d) Calculate Matrix $P(D)$"
   ]
  },
  {
   "cell_type": "markdown",
   "metadata": {},
   "source": [
    "Based on the fact that the Documents in D are all equaly probably, lets define $P(D)$ as follows"
   ]
  },
  {
   "cell_type": "markdown",
   "metadata": {},
   "source": [
    "$P(D) = \\frac{1}{n} * J_{1,n}$"
   ]
  },
  {
   "cell_type": "code",
   "execution_count": 15,
   "metadata": {},
   "outputs": [
    {
     "name": "stdout",
     "output_type": "stream",
     "text": [
      "[[0.2 0.2 0.2 0.2 0.2]]\n"
     ]
    }
   ],
   "source": [
    "P_D = 1/n * np.ones((1,n))\n",
    "\n",
    "print (P_D)"
   ]
  },
  {
   "cell_type": "markdown",
   "metadata": {},
   "source": [
    "e) Calculate Matrix $P(T)$"
   ]
  },
  {
   "cell_type": "markdown",
   "metadata": {},
   "source": [
    "Lets refer to problem a) to solve this using the following formula."
   ]
  },
  {
   "cell_type": "markdown",
   "metadata": {},
   "source": [
    "$P(T) = P(T,D) * J_{n,1}$"
   ]
  },
  {
   "cell_type": "code",
   "execution_count": 16,
   "metadata": {},
   "outputs": [
    {
     "name": "stdout",
     "output_type": "stream",
     "text": [
      "[[0.14160606]\n",
      " [0.12303382]\n",
      " [0.17464229]\n",
      " [0.20242929]\n",
      " [0.09396047]\n",
      " [0.26432806]]\n"
     ]
    }
   ],
   "source": [
    "P_T = P_T_D * np.ones((n,1))\n",
    "\n",
    "print (P_T)"
   ]
  },
  {
   "cell_type": "markdown",
   "metadata": {},
   "source": [
    "f) Calculate $E(L)$ where $E(x)$ is the expected value of x"
   ]
  },
  {
   "cell_type": "markdown",
   "metadata": {},
   "source": [
    "Starting from the formula"
   ]
  },
  {
   "cell_type": "markdown",
   "metadata": {},
   "source": [
    "$E(x) = \\sum_x P(x)*x$"
   ]
  },
  {
   "cell_type": "markdown",
   "metadata": {},
   "source": [
    "I can get the following equivalent"
   ]
  },
  {
   "cell_type": "markdown",
   "metadata": {},
   "source": [
    "$E(L) = \\sum_l P(l) \\times L $"
   ]
  },
  {
   "cell_type": "markdown",
   "metadata": {},
   "source": [
    "But lets remember that L depends from the Term it appears in, which also depends on the document that is selected. So I end up with the following."
   ]
  },
  {
   "cell_type": "markdown",
   "metadata": {},
   "source": [
    "$E(L) = \\sum P(T,D) \\times (L * J_{1,n}) $"
   ]
  },
  {
   "cell_type": "code",
   "execution_count": 18,
   "metadata": {},
   "outputs": [
    {
     "name": "stdout",
     "output_type": "stream",
     "text": [
      "3.8614266578831797\n"
     ]
    }
   ],
   "source": [
    "length_expected_value = np.multiply(P_T_D, L * np.ones((1,n))).sum()\n",
    "\n",
    "print(length_expected_value)"
   ]
  },
  {
   "cell_type": "markdown",
   "metadata": {},
   "source": [
    "g) Calculate $Var(L)$ "
   ]
  },
  {
   "cell_type": "markdown",
   "metadata": {},
   "source": [
    "I make use of the following formula"
   ]
  },
  {
   "cell_type": "markdown",
   "metadata": {},
   "source": [
    "$Var(x) = \\sum_{i=1}^{n} P_i \\times (X_i - \\mu)^2 $"
   ]
  },
  {
   "cell_type": "markdown",
   "metadata": {},
   "source": [
    "where $\\mu$ is the expected value, and apply it to the Matrix scenario as such"
   ]
  },
  {
   "cell_type": "markdown",
   "metadata": {},
   "source": [
    "let $Y = (X_i - \\mu) = (L*J_{1,n} - \\mu) $"
   ]
  },
  {
   "cell_type": "markdown",
   "metadata": {},
   "source": [
    "then we can define $Var(L)$ as $Var(L) = \\sum Y\\times Y \\times P(T,D) $  (remember that $\\times$ stands for one to one matrix multiplication)"
   ]
  },
  {
   "cell_type": "code",
   "execution_count": 19,
   "metadata": {},
   "outputs": [
    {
     "name": "stdout",
     "output_type": "stream",
     "text": [
      "1.8632262826095156\n"
     ]
    }
   ],
   "source": [
    "mu = length_expected_value\n",
    "Y = L * np.ones((1,n)) - mu\n",
    "length_variance = np.multiply(P_T_D, np.multiply(Y,Y)).sum()\n",
    "\n",
    "print(length_variance)"
   ]
  }
 ],
 "metadata": {
  "kernelspec": {
   "display_name": "Python 3",
   "language": "python",
   "name": "python3"
  },
  "language_info": {
   "codemirror_mode": {
    "name": "ipython",
    "version": 3
   },
   "file_extension": ".py",
   "mimetype": "text/x-python",
   "name": "python",
   "nbconvert_exporter": "python",
   "pygments_lexer": "ipython3",
   "version": "3.6.4"
  }
 },
 "nbformat": 4,
 "nbformat_minor": 2
}
